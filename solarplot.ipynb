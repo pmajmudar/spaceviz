{
 "cells": [
  {
   "cell_type": "code",
   "execution_count": 1,
   "metadata": {
    "collapsed": true
   },
   "outputs": [],
   "source": [
    "import matplotlib.pyplot as plt\n",
    "%matplotlib inline\n",
    "import matplotlib.patches as mpatches\n",
    "from matplotlib.collections import PatchCollection"
   ]
  },
  {
   "cell_type": "code",
   "execution_count": 2,
   "metadata": {
    "collapsed": true
   },
   "outputs": [],
   "source": [
    "import pandas as pd"
   ]
  },
  {
   "cell_type": "code",
   "execution_count": 7,
   "metadata": {
    "collapsed": true
   },
   "outputs": [],
   "source": [
    "tabs = pd.read_html('https://nssdc.gsfc.nasa.gov/planetary/factsheet/', header=0, index_col=0)\n",
    "df_planets = tabs[0]"
   ]
  },
  {
   "cell_type": "code",
   "execution_count": 8,
   "metadata": {
    "collapsed": false
   },
   "outputs": [
    {
     "data": {
      "text/html": [
       "<div>\n",
       "<style scoped>\n",
       "    .dataframe tbody tr th:only-of-type {\n",
       "        vertical-align: middle;\n",
       "    }\n",
       "\n",
       "    .dataframe tbody tr th {\n",
       "        vertical-align: top;\n",
       "    }\n",
       "\n",
       "    .dataframe thead th {\n",
       "        text-align: right;\n",
       "    }\n",
       "</style>\n",
       "<table border=\"1\" class=\"dataframe\">\n",
       "  <thead>\n",
       "    <tr style=\"text-align: right;\">\n",
       "      <th></th>\n",
       "      <th>MERCURY</th>\n",
       "      <th>VENUS</th>\n",
       "      <th>EARTH</th>\n",
       "      <th>MARS</th>\n",
       "      <th>JUPITER</th>\n",
       "      <th>SATURN</th>\n",
       "      <th>URANUS</th>\n",
       "      <th>NEPTUNE</th>\n",
       "      <th>PLUTO</th>\n",
       "    </tr>\n",
       "  </thead>\n",
       "  <tbody>\n",
       "    <tr>\n",
       "      <th>Mass (1024kg)</th>\n",
       "      <td>0.330</td>\n",
       "      <td>4.87</td>\n",
       "      <td>5.97</td>\n",
       "      <td>0.642</td>\n",
       "      <td>1898</td>\n",
       "      <td>568</td>\n",
       "      <td>86.8</td>\n",
       "      <td>102</td>\n",
       "      <td>0.0146</td>\n",
       "    </tr>\n",
       "    <tr>\n",
       "      <th>Diameter (km)</th>\n",
       "      <td>4879</td>\n",
       "      <td>12104</td>\n",
       "      <td>12756</td>\n",
       "      <td>6792</td>\n",
       "      <td>142984</td>\n",
       "      <td>120536</td>\n",
       "      <td>51118</td>\n",
       "      <td>49528</td>\n",
       "      <td>2370</td>\n",
       "    </tr>\n",
       "    <tr>\n",
       "      <th>Density (kg/m3)</th>\n",
       "      <td>5427</td>\n",
       "      <td>5243</td>\n",
       "      <td>5514</td>\n",
       "      <td>3933</td>\n",
       "      <td>1326</td>\n",
       "      <td>687</td>\n",
       "      <td>1271</td>\n",
       "      <td>1638</td>\n",
       "      <td>2095</td>\n",
       "    </tr>\n",
       "    <tr>\n",
       "      <th>Gravity (m/s2)</th>\n",
       "      <td>3.7</td>\n",
       "      <td>8.9</td>\n",
       "      <td>9.8</td>\n",
       "      <td>3.7</td>\n",
       "      <td>23.1</td>\n",
       "      <td>9.0</td>\n",
       "      <td>8.7</td>\n",
       "      <td>11.0</td>\n",
       "      <td>0.7</td>\n",
       "    </tr>\n",
       "    <tr>\n",
       "      <th>Escape Velocity (km/s)</th>\n",
       "      <td>4.3</td>\n",
       "      <td>10.4</td>\n",
       "      <td>11.2</td>\n",
       "      <td>5.0</td>\n",
       "      <td>59.5</td>\n",
       "      <td>35.5</td>\n",
       "      <td>21.3</td>\n",
       "      <td>23.5</td>\n",
       "      <td>1.3</td>\n",
       "    </tr>\n",
       "    <tr>\n",
       "      <th>Rotation Period (hours)</th>\n",
       "      <td>1407.6</td>\n",
       "      <td>-5832.5</td>\n",
       "      <td>23.9</td>\n",
       "      <td>24.6</td>\n",
       "      <td>9.9</td>\n",
       "      <td>10.7</td>\n",
       "      <td>-17.2</td>\n",
       "      <td>16.1</td>\n",
       "      <td>-153.3</td>\n",
       "    </tr>\n",
       "    <tr>\n",
       "      <th>Length of Day (hours)</th>\n",
       "      <td>4222.6</td>\n",
       "      <td>2802.0</td>\n",
       "      <td>24.0</td>\n",
       "      <td>24.7</td>\n",
       "      <td>9.9</td>\n",
       "      <td>10.7</td>\n",
       "      <td>17.2</td>\n",
       "      <td>16.1</td>\n",
       "      <td>153.3</td>\n",
       "    </tr>\n",
       "    <tr>\n",
       "      <th>Distance from Sun (106 km)</th>\n",
       "      <td>57.9</td>\n",
       "      <td>108.2</td>\n",
       "      <td>149.6</td>\n",
       "      <td>227.9</td>\n",
       "      <td>778.6</td>\n",
       "      <td>1433.5</td>\n",
       "      <td>2872.5</td>\n",
       "      <td>4495.1</td>\n",
       "      <td>5906.4</td>\n",
       "    </tr>\n",
       "    <tr>\n",
       "      <th>Perihelion (106 km)</th>\n",
       "      <td>46.0</td>\n",
       "      <td>107.5</td>\n",
       "      <td>147.1</td>\n",
       "      <td>206.6</td>\n",
       "      <td>740.5</td>\n",
       "      <td>1352.6</td>\n",
       "      <td>2741.3</td>\n",
       "      <td>4444.5</td>\n",
       "      <td>4436.8</td>\n",
       "    </tr>\n",
       "    <tr>\n",
       "      <th>Aphelion (106 km)</th>\n",
       "      <td>69.8</td>\n",
       "      <td>108.9</td>\n",
       "      <td>152.1</td>\n",
       "      <td>249.2</td>\n",
       "      <td>816.6</td>\n",
       "      <td>1514.5</td>\n",
       "      <td>3003.6</td>\n",
       "      <td>4545.7</td>\n",
       "      <td>7375.9</td>\n",
       "    </tr>\n",
       "    <tr>\n",
       "      <th>Orbital Period (days)</th>\n",
       "      <td>88.0</td>\n",
       "      <td>224.7</td>\n",
       "      <td>365.2</td>\n",
       "      <td>687.0</td>\n",
       "      <td>4331</td>\n",
       "      <td>10747</td>\n",
       "      <td>30589</td>\n",
       "      <td>59800</td>\n",
       "      <td>90560</td>\n",
       "    </tr>\n",
       "    <tr>\n",
       "      <th>Orbital Velocity (km/s)</th>\n",
       "      <td>47.4</td>\n",
       "      <td>35.0</td>\n",
       "      <td>29.8</td>\n",
       "      <td>24.1</td>\n",
       "      <td>13.1</td>\n",
       "      <td>9.7</td>\n",
       "      <td>6.8</td>\n",
       "      <td>5.4</td>\n",
       "      <td>4.7</td>\n",
       "    </tr>\n",
       "    <tr>\n",
       "      <th>Orbital Inclination (degrees)</th>\n",
       "      <td>7.0</td>\n",
       "      <td>3.4</td>\n",
       "      <td>0.0</td>\n",
       "      <td>1.9</td>\n",
       "      <td>1.3</td>\n",
       "      <td>2.5</td>\n",
       "      <td>0.8</td>\n",
       "      <td>1.8</td>\n",
       "      <td>17.2</td>\n",
       "    </tr>\n",
       "    <tr>\n",
       "      <th>Orbital Eccentricity</th>\n",
       "      <td>0.205</td>\n",
       "      <td>0.007</td>\n",
       "      <td>0.017</td>\n",
       "      <td>0.094</td>\n",
       "      <td>0.049</td>\n",
       "      <td>0.057</td>\n",
       "      <td>0.046</td>\n",
       "      <td>0.011</td>\n",
       "      <td>0.244</td>\n",
       "    </tr>\n",
       "    <tr>\n",
       "      <th>Obliquity to Orbit (degrees)</th>\n",
       "      <td>0.034</td>\n",
       "      <td>177.4</td>\n",
       "      <td>23.4</td>\n",
       "      <td>25.2</td>\n",
       "      <td>3.1</td>\n",
       "      <td>26.7</td>\n",
       "      <td>97.8</td>\n",
       "      <td>28.3</td>\n",
       "      <td>122.5</td>\n",
       "    </tr>\n",
       "    <tr>\n",
       "      <th>Mean Temperature (C)</th>\n",
       "      <td>167</td>\n",
       "      <td>464</td>\n",
       "      <td>15</td>\n",
       "      <td>-65</td>\n",
       "      <td>-110</td>\n",
       "      <td>-140</td>\n",
       "      <td>-195</td>\n",
       "      <td>-200</td>\n",
       "      <td>-225</td>\n",
       "    </tr>\n",
       "    <tr>\n",
       "      <th>Surface Pressure (bars)</th>\n",
       "      <td>0</td>\n",
       "      <td>92</td>\n",
       "      <td>1</td>\n",
       "      <td>0.01</td>\n",
       "      <td>Unknown*</td>\n",
       "      <td>Unknown*</td>\n",
       "      <td>Unknown*</td>\n",
       "      <td>Unknown*</td>\n",
       "      <td>0.00001</td>\n",
       "    </tr>\n",
       "    <tr>\n",
       "      <th>Number of Moons</th>\n",
       "      <td>0</td>\n",
       "      <td>0</td>\n",
       "      <td>1</td>\n",
       "      <td>2</td>\n",
       "      <td>79</td>\n",
       "      <td>62</td>\n",
       "      <td>27</td>\n",
       "      <td>14</td>\n",
       "      <td>5</td>\n",
       "    </tr>\n",
       "    <tr>\n",
       "      <th>Ring System?</th>\n",
       "      <td>No</td>\n",
       "      <td>No</td>\n",
       "      <td>No</td>\n",
       "      <td>No</td>\n",
       "      <td>Yes</td>\n",
       "      <td>Yes</td>\n",
       "      <td>Yes</td>\n",
       "      <td>Yes</td>\n",
       "      <td>No</td>\n",
       "    </tr>\n",
       "    <tr>\n",
       "      <th>Global Magnetic Field?</th>\n",
       "      <td>Yes</td>\n",
       "      <td>No</td>\n",
       "      <td>Yes</td>\n",
       "      <td>No</td>\n",
       "      <td>Yes</td>\n",
       "      <td>Yes</td>\n",
       "      <td>Yes</td>\n",
       "      <td>Yes</td>\n",
       "      <td>Unknown</td>\n",
       "    </tr>\n",
       "    <tr>\n",
       "      <th>NaN</th>\n",
       "      <td>MERCURY</td>\n",
       "      <td>VENUS</td>\n",
       "      <td>EARTH</td>\n",
       "      <td>MARS</td>\n",
       "      <td>JUPITER</td>\n",
       "      <td>SATURN</td>\n",
       "      <td>URANUS</td>\n",
       "      <td>NEPTUNE</td>\n",
       "      <td>PLUTO</td>\n",
       "    </tr>\n",
       "  </tbody>\n",
       "</table>\n",
       "</div>"
      ],
      "text/plain": [
       "                               MERCURY    VENUS  EARTH   MARS   JUPITER  \\\n",
       "Mass (1024kg)                    0.330     4.87   5.97  0.642      1898   \n",
       "Diameter (km)                     4879    12104  12756   6792    142984   \n",
       "Density (kg/m3)                   5427     5243   5514   3933      1326   \n",
       "Gravity (m/s2)                     3.7      8.9    9.8    3.7      23.1   \n",
       "Escape Velocity (km/s)             4.3     10.4   11.2    5.0      59.5   \n",
       "Rotation Period (hours)         1407.6  -5832.5   23.9   24.6       9.9   \n",
       "Length of Day (hours)           4222.6   2802.0   24.0   24.7       9.9   \n",
       "Distance from Sun (106 km)        57.9    108.2  149.6  227.9     778.6   \n",
       "Perihelion (106 km)               46.0    107.5  147.1  206.6     740.5   \n",
       "Aphelion (106 km)                 69.8    108.9  152.1  249.2     816.6   \n",
       "Orbital Period (days)             88.0    224.7  365.2  687.0      4331   \n",
       "Orbital Velocity (km/s)           47.4     35.0   29.8   24.1      13.1   \n",
       "Orbital Inclination (degrees)      7.0      3.4    0.0    1.9       1.3   \n",
       "Orbital Eccentricity             0.205    0.007  0.017  0.094     0.049   \n",
       "Obliquity to Orbit (degrees)     0.034    177.4   23.4   25.2       3.1   \n",
       "Mean Temperature (C)               167      464     15    -65      -110   \n",
       "Surface Pressure (bars)              0       92      1   0.01  Unknown*   \n",
       "Number of Moons                      0        0      1      2        79   \n",
       "Ring System?                        No       No     No     No       Yes   \n",
       "Global Magnetic Field?             Yes       No    Yes     No       Yes   \n",
       "NaN                            MERCURY    VENUS  EARTH   MARS   JUPITER   \n",
       "\n",
       "                                 SATURN    URANUS   NEPTUNE    PLUTO  \n",
       "Mass (1024kg)                       568      86.8       102   0.0146  \n",
       "Diameter (km)                    120536     51118     49528     2370  \n",
       "Density (kg/m3)                     687      1271      1638     2095  \n",
       "Gravity (m/s2)                      9.0       8.7      11.0      0.7  \n",
       "Escape Velocity (km/s)             35.5      21.3      23.5      1.3  \n",
       "Rotation Period (hours)            10.7     -17.2      16.1   -153.3  \n",
       "Length of Day (hours)              10.7      17.2      16.1    153.3  \n",
       "Distance from Sun (106 km)       1433.5    2872.5    4495.1   5906.4  \n",
       "Perihelion (106 km)              1352.6    2741.3    4444.5   4436.8  \n",
       "Aphelion (106 km)                1514.5    3003.6    4545.7   7375.9  \n",
       "Orbital Period (days)             10747     30589     59800    90560  \n",
       "Orbital Velocity (km/s)             9.7       6.8       5.4      4.7  \n",
       "Orbital Inclination (degrees)       2.5       0.8       1.8     17.2  \n",
       "Orbital Eccentricity              0.057     0.046     0.011    0.244  \n",
       "Obliquity to Orbit (degrees)       26.7      97.8      28.3    122.5  \n",
       "Mean Temperature (C)               -140      -195      -200     -225  \n",
       "Surface Pressure (bars)        Unknown*  Unknown*  Unknown*  0.00001  \n",
       "Number of Moons                      62        27        14        5  \n",
       "Ring System?                        Yes       Yes       Yes       No  \n",
       "Global Magnetic Field?              Yes       Yes       Yes  Unknown  \n",
       "NaN                              SATURN    URANUS   NEPTUNE    PLUTO  "
      ]
     },
     "execution_count": 8,
     "metadata": {},
     "output_type": "execute_result"
    }
   ],
   "source": [
    "df_planets.drop('MOON', axis=1, inplace=True)\n",
    "df_planets"
   ]
  },
  {
   "cell_type": "code",
   "execution_count": 9,
   "metadata": {
    "collapsed": false
   },
   "outputs": [
    {
     "data": {
      "text/plain": [
       "MERCURY    object\n",
       "VENUS      object\n",
       "EARTH      object\n",
       "MARS       object\n",
       "JUPITER    object\n",
       "SATURN     object\n",
       "URANUS     object\n",
       "NEPTUNE    object\n",
       "PLUTO      object\n",
       "dtype: object"
      ]
     },
     "execution_count": 9,
     "metadata": {},
     "output_type": "execute_result"
    }
   ],
   "source": [
    "df_planets.dtypes"
   ]
  },
  {
   "cell_type": "code",
   "execution_count": 10,
   "metadata": {
    "collapsed": false
   },
   "outputs": [
    {
     "name": "stdout",
     "output_type": "stream",
     "text": [
      "71492.0 6378.0\n",
      "1321.33739961\n",
      "990.75\n"
     ]
    }
   ],
   "source": [
    "r_j = float(df_planets.loc['Diameter (km)', 'JUPITER'])/2.0 \n",
    "r_e = float(df_planets.loc['Diameter (km)', 'EARTH'])/2.0\n",
    "print r_j, r_e\n",
    "\n",
    "# Jupiter bulges, so its mean radius is actually smaller\n",
    "print 69911**3 / 6371.0**3\n",
    "print 1321*0.75"
   ]
  },
  {
   "cell_type": "code",
   "execution_count": 11,
   "metadata": {
    "collapsed": false
   },
   "outputs": [
    {
     "data": {
      "text/plain": [
       "MERCURY      4879\n",
       "VENUS       12104\n",
       "EARTH       12756\n",
       "MARS         6792\n",
       "JUPITER    142984\n",
       "SATURN     120536\n",
       "URANUS      51118\n",
       "NEPTUNE     49528\n",
       "PLUTO        2370\n",
       "Name: Diameter (km), dtype: object"
      ]
     },
     "execution_count": 11,
     "metadata": {},
     "output_type": "execute_result"
    }
   ],
   "source": [
    "df_planets.loc['Diameter (km)', :]"
   ]
  },
  {
   "cell_type": "code",
   "execution_count": 18,
   "metadata": {
    "collapsed": false
   },
   "outputs": [],
   "source": [
    "# moon = 3475\n",
    "diams = [4879,12104,12756,6792,142984,120536,51118,49528,2370]\n",
    "n_moons = [0,0,1,2,79,62,27,14,5]\n",
    "temps = [167,464,15,-65,-110,-140,-195,-200,-225]\n",
    "len_data = [4222.6,2802.0,24.0,24.7,9.9,10.7,17.2,16.1,153.3]\n",
    "planets = zip(diams, n_moons, temps, len_data)\n"
   ]
  },
  {
   "cell_type": "code",
   "execution_count": 19,
   "metadata": {
    "collapsed": false
   },
   "outputs": [
    {
     "name": "stdout",
     "output_type": "stream",
     "text": [
      "(u'MERCURY', '57.9')\n",
      "(u'VENUS', '108.2')\n",
      "(u'EARTH', '149.6')\n",
      "(u'MARS', '227.9')\n",
      "(u'JUPITER', '778.6')\n",
      "(u'SATURN', '1433.5')\n",
      "(u'URANUS', '2872.5')\n",
      "(u'NEPTUNE', '4495.1')\n",
      "(u'PLUTO', '5906.4')\n"
     ]
    }
   ],
   "source": [
    "for ob in df_planets.loc['Distance from Sun (106 km)', :].iteritems():\n",
    "    print ob"
   ]
  },
  {
   "cell_type": "code",
   "execution_count": 17,
   "metadata": {
    "collapsed": false
   },
   "outputs": [
    {
     "data": {
      "text/plain": [
       "(-20.0, 6000.0, -20.0, 20.0)"
      ]
     },
     "execution_count": 17,
     "metadata": {},
     "output_type": "execute_result"
    },
    {
     "data": {
      "image/png": "[encoded data removed]",
      "text/plain": [
       "<matplotlib.figure.Figure at 0x7fa1825c9050>"
      ]
     },
     "metadata": {},
     "output_type": "display_data"
    }
   ],
   "source": [
    "fig, ax = plt.subplots(figsize=(20,2))\n",
    "\n",
    "\n",
    "dpatches = []\n",
    "\n",
    "for name, d in df_planets.loc['Distance from Sun (106 km)', :].iteritems():\n",
    "    circle = mpatches.Circle((d, 0.0), 18.0 )\n",
    "    plt.text(d, -150.0, u\"{:}\".format(name[0]), ha=\"center\", family='Roboto', size=12)\n",
    "    dpatches.append(circle)\n",
    "    \n",
    "# cmap=plt.cm.hsv,\n",
    "dcollection = PatchCollection(dpatches, alpha=1, edgecolor=\"none\")\n",
    "ax.add_collection(dcollection)\n",
    "ax.set_xlim(left=0.0)\n",
    "\n",
    "plt.axis('equal')\n",
    "plt.xlim(left=-20.0)\n",
    "plt.axis('off')\n",
    "#plt.tight_layout()\n",
    "#plt.savefig(\"dplanets.svg\")\n"
   ]
  },
  {
   "cell_type": "code",
   "execution_count": 22,
   "metadata": {
    "collapsed": false
   },
   "outputs": [
    {
     "data": {
      "text/plain": [
       "(-80000.0, 80000.0, 0.0, 500000.0)"
      ]
     },
     "execution_count": 22,
     "metadata": {},
     "output_type": "execute_result"
    },
    {
     "data": {
      "image/png": "[encoded data removed]",
      "text/plain": [
       "<matplotlib.figure.Figure at 0x7fed3379c9d0>"
      ]
     },
     "metadata": {},
     "output_type": "display_data"
    }
   ],
   "source": [
    "\n",
    "fig, ax = plt.subplots(figsize=(12,20))\n",
    "\n",
    "patches = []\n",
    "last_offset = 0.0\n",
    "for p, n, t, l in planets:\n",
    "    y = last_offset + p/2.0\n",
    "    circle = mpatches.Circle((0.0, y), p / 2.0 )\n",
    "    plt.text(130000.0, y, u\"{:,} km\\n {:}°C; {} moons\".format(p, t, n), ha=\"center\", family='Roboto', size=14)\n",
    "    patches.append(circle)\n",
    "    last_offset = last_offset + p + 10000.0\n",
    "\n",
    "# cmap=plt.cm.hsv,\n",
    "collection = PatchCollection(patches, cmap=plt.cm.hsv, alpha=0.5, edgecolor=\"none\")\n",
    "ax.add_collection(collection)\n",
    "\n",
    "plt.axis('equal')\n",
    "plt.axis('off')\n",
    "#plt.savefig(\"planets.svg\")"
   ]
  }
 ],
 "metadata": {
  "kernelspec": {
   "display_name": "Python 2",
   "language": "python",
   "name": "python2"
  },
  "language_info": {
   "codemirror_mode": {
    "name": "ipython",
    "version": 2
   },
   "file_extension": ".py",
   "mimetype": "text/x-python",
   "name": "python",
   "nbconvert_exporter": "python",
   "pygments_lexer": "ipython2",
   "version": "2.7.9"
  }
 },
 "nbformat": 4,
 "nbformat_minor": 1
}
